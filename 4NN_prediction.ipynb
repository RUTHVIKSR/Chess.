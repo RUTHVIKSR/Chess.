{
 "cells": [
  {
   "cell_type": "code",
   "execution_count": 14,
   "id": "cb9ed035-4b75-4d1a-b08c-e3ebc7515eac",
   "metadata": {
    "scrolled": true
   },
   "outputs": [
    {
     "name": "stdout",
     "output_type": "stream",
     "text": [
      "Model loaded successfully.\n",
      "Output shape: (1, 2)\n",
      "Predicted White Elo: 1795.68\n",
      "Predicted Black Elo: 1792.29\n"
     ]
    }
   ],
   "source": [
    "import chess.pgn\n",
    "import io\n",
    "import numpy as np\n",
    "import joblib\n",
    "import chess_utils\n",
    "\n",
    "# The given PGN game\n",
    "pgn_text = \"\"\"[Event \"FICS rated standard game\"]\n",
    "[Site \"FICS freechess.org\"]\n",
    "[Date \"2020.06.30\"]\n",
    "[Round \"?\"]\n",
    "[White \"crashoverriiide\"]\n",
    "[Black \"YavChess\"]\n",
    "[Result \"1-0\"]\n",
    "[BlackClock \"0:15:00.000\"]\n",
    "[BlackElo \"1859\"]\n",
    "[BlackRD \"0.0\"]\n",
    "[ECO \"B27\"]\n",
    "[FICSGamesDBGameNo \"472656335\"]\n",
    "[PlyCount \"111\"]\n",
    "[Time \"23:29:00\"]\n",
    "[TimeControl \"900+0\"]\n",
    "[WhiteClock \"0:15:00.000\"]\n",
    "[WhiteElo \"1652\"]\n",
    "[WhiteRD \"0.0\"]\n",
    "\n",
    "1. e4 c5 2. Nf3 g6 3. Bc4 Bg7 4. c3 Nc6 5. O-O e6 6. Re1 Nge7 7. Bb3 O-O 8. d3 b5 9. Bg5 Bb7 10. Qd2 Re8 11. Bh6 Bh8 12. Bg5 Qc7 13. Qe3 Na5 14. Bc2 d5 15. Bxe7 Rxe7 16. d4 cxd4 17. Nxd4 Nc4 18. Qc1 a6 19. Nd2 Rc8 20. N2f3 Ne5 21. a3 Nd3 22. Bxd3 e5 23. Nc2 Rd7 24. Qh6 Bg7 25. Qh3 h6 26. Rad1 dxe4 27. Bxe4 Rxd1 28. Rxd1 Bxe4 29. Ne3 Rd8 30. Re1 Qc6 31. Qg4 Bxf3 32. gxf3 h5 33. Qg3 Rd3 34. Rd1 Rxd1+ 35. Nxd1 Qd5 36. Ne3 Qd2 37. Qg5 Kh7 38. Qe7 f5 39. Qb4 f4 40. Nf1 Qd5 41. Qe4 Qb3 42. Qb1 Qc4 43. Nd2 Qe2 44. Qc1 Bf8 45. Kg2 Bc5 46. Ne4 Be3 47. Qf1 Qxf1+ 48. Kxf1 Bc1 49. b3 Bxa3 50. Nf6+ Kh8 51. Nd7 Bd6 52. Nb6 Bc5 53. Nd5 a5 54. b4 a4 55. bxc5 Kg7 56. c6 { Black forfeits on time } 1-0\"\"\"\n",
    "\n",
    "# 1) Load your saved kNN model (or pipeline) into nn_model:\n",
    "nn_model = joblib.load('models/nn_model1.pkl')\n",
    "print(\"Model loaded successfully.\")\n",
    "\n",
    "# 3) Parse the PGN\n",
    "pgn_io = io.StringIO(pgn_text)\n",
    "game   = chess.pgn.read_game(pgn_io)\n",
    "\n",
    "# 4) Convert to your 35-dim vector\n",
    "game_vector = chess_utils.game_to_vec(game, 35).reshape(1, -1)\n",
    "\n",
    "# 5) Predict\n",
    "predicted_elo = nn_model.predict(game_vector)\n",
    "print(\"Output shape:\", predicted_elo.shape)\n",
    "\n",
    "white_elo, black_elo = predicted_elo.flatten()\n",
    "print(f\"Predicted White Elo: {white_elo:.2f}\")\n",
    "print(f\"Predicted Black Elo: {black_elo:.2f}\")\n",
    "\n"
   ]
  },
  {
   "cell_type": "code",
   "execution_count": null,
   "id": "7a9d8ebd-8748-474f-94cf-92988b18c82d",
   "metadata": {},
   "outputs": [],
   "source": []
  }
 ],
 "metadata": {
  "kernelspec": {
   "display_name": "Python 3 (ipykernel)",
   "language": "python",
   "name": "python3"
  },
  "language_info": {
   "codemirror_mode": {
    "name": "ipython",
    "version": 3
   },
   "file_extension": ".py",
   "mimetype": "text/x-python",
   "name": "python",
   "nbconvert_exporter": "python",
   "pygments_lexer": "ipython3",
   "version": "3.13.0"
  }
 },
 "nbformat": 4,
 "nbformat_minor": 5
}
